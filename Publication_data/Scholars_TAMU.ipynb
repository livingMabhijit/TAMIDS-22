{
 "cells": [
  {
   "cell_type": "code",
   "execution_count": 1,
   "metadata": {},
   "outputs": [],
   "source": [
    "import numpy as np, pandas as pd, requests\n",
    "from bs4 import BeautifulSoup as bs"
   ]
  },
  {
   "cell_type": "code",
   "execution_count": 2,
   "metadata": {},
   "outputs": [],
   "source": [
    "#downloaded csv to find the list of all profs on scholars tamu\n",
    "prof_list = pd.read_csv(\"C:/Users/thetu/Downloads/prof_list.csv\")"
   ]
  },
  {
   "cell_type": "code",
   "execution_count": 3,
   "metadata": {},
   "outputs": [
    {
     "data": {
      "text/html": [
       "<div>\n",
       "<style scoped>\n",
       "    .dataframe tbody tr th:only-of-type {\n",
       "        vertical-align: middle;\n",
       "    }\n",
       "\n",
       "    .dataframe tbody tr th {\n",
       "        vertical-align: top;\n",
       "    }\n",
       "\n",
       "    .dataframe thead th {\n",
       "        text-align: right;\n",
       "    }\n",
       "</style>\n",
       "<table border=\"1\" class=\"dataframe\">\n",
       "  <thead>\n",
       "    <tr style=\"text-align: right;\">\n",
       "      <th></th>\n",
       "      <th>First name</th>\n",
       "      <th>Last name</th>\n",
       "      <th>Preferred title</th>\n",
       "      <th>Overview</th>\n",
       "      <th>Position</th>\n",
       "      <th>Department</th>\n",
       "      <th>Individual</th>\n",
       "    </tr>\n",
       "  </thead>\n",
       "  <tbody>\n",
       "    <tr>\n",
       "      <th>0</th>\n",
       "      <td>Pat</td>\n",
       "      <td>(Antonio) Rubio Goldsmith</td>\n",
       "      <td>Professor and Interim Head</td>\n",
       "      <td>I study Latinx, race, education, school/neighb...</td>\n",
       "      <td>Associate Professor</td>\n",
       "      <td>Sociology</td>\n",
       "      <td>https://scholars.library.tamu.edu/vivo/display...</td>\n",
       "    </tr>\n",
       "    <tr>\n",
       "      <th>1</th>\n",
       "      <td>Artem</td>\n",
       "      <td>Abanov</td>\n",
       "      <td>Associate Professor</td>\n",
       "      <td>NaN</td>\n",
       "      <td>Associate Professor</td>\n",
       "      <td>Physics and Astronomy</td>\n",
       "      <td>https://scholars.library.tamu.edu/vivo/display...</td>\n",
       "    </tr>\n",
       "    <tr>\n",
       "      <th>2</th>\n",
       "      <td>Naqaa</td>\n",
       "      <td>Abbas</td>\n",
       "      <td>Instructional Assistant Professor</td>\n",
       "      <td>NaN</td>\n",
       "      <td>Instructional Assistant Professor</td>\n",
       "      <td>Texas A&amp;M University at Qatar</td>\n",
       "      <td>https://scholars.library.tamu.edu/vivo/display...</td>\n",
       "    </tr>\n",
       "    <tr>\n",
       "      <th>3</th>\n",
       "      <td>James</td>\n",
       "      <td>Abbey</td>\n",
       "      <td>Bob '85 and Kelly Jordan '86 Professorship in ...</td>\n",
       "      <td>My research focuses on consumer perceptions an...</td>\n",
       "      <td>Faculty Fellow||Associate Professor</td>\n",
       "      <td>Center for Health Systems and Design||Informat...</td>\n",
       "      <td>https://scholars.library.tamu.edu/vivo/display...</td>\n",
       "    </tr>\n",
       "    <tr>\n",
       "      <th>4</th>\n",
       "      <td>Elton</td>\n",
       "      <td>Abbott</td>\n",
       "      <td>Associate Professor of the Practice</td>\n",
       "      <td>NaN</td>\n",
       "      <td>Associate Professor of the Practice||Faculty F...</td>\n",
       "      <td>Center for Health Systems and Design||Architec...</td>\n",
       "      <td>https://scholars.library.tamu.edu/vivo/display...</td>\n",
       "    </tr>\n",
       "  </tbody>\n",
       "</table>\n",
       "</div>"
      ],
      "text/plain": [
       "  First name                  Last name  \\\n",
       "0        Pat  (Antonio) Rubio Goldsmith   \n",
       "1      Artem                     Abanov   \n",
       "2      Naqaa                      Abbas   \n",
       "3      James                      Abbey   \n",
       "4      Elton                     Abbott   \n",
       "\n",
       "                                     Preferred title  \\\n",
       "0                         Professor and Interim Head   \n",
       "1                                Associate Professor   \n",
       "2                  Instructional Assistant Professor   \n",
       "3  Bob '85 and Kelly Jordan '86 Professorship in ...   \n",
       "4                Associate Professor of the Practice   \n",
       "\n",
       "                                            Overview  \\\n",
       "0  I study Latinx, race, education, school/neighb...   \n",
       "1                                                NaN   \n",
       "2                                                NaN   \n",
       "3  My research focuses on consumer perceptions an...   \n",
       "4                                                NaN   \n",
       "\n",
       "                                            Position  \\\n",
       "0                                Associate Professor   \n",
       "1                                Associate Professor   \n",
       "2                  Instructional Assistant Professor   \n",
       "3                Faculty Fellow||Associate Professor   \n",
       "4  Associate Professor of the Practice||Faculty F...   \n",
       "\n",
       "                                          Department  \\\n",
       "0                                          Sociology   \n",
       "1                              Physics and Astronomy   \n",
       "2                      Texas A&M University at Qatar   \n",
       "3  Center for Health Systems and Design||Informat...   \n",
       "4  Center for Health Systems and Design||Architec...   \n",
       "\n",
       "                                          Individual  \n",
       "0  https://scholars.library.tamu.edu/vivo/display...  \n",
       "1  https://scholars.library.tamu.edu/vivo/display...  \n",
       "2  https://scholars.library.tamu.edu/vivo/display...  \n",
       "3  https://scholars.library.tamu.edu/vivo/display...  \n",
       "4  https://scholars.library.tamu.edu/vivo/display...  "
      ]
     },
     "execution_count": 3,
     "metadata": {},
     "output_type": "execute_result"
    }
   ],
   "source": [
    "prof_list.head()"
   ]
  },
  {
   "cell_type": "code",
   "execution_count": 4,
   "metadata": {},
   "outputs": [],
   "source": [
    "#total number of profs\n",
    "n = prof_list.shape[0]"
   ]
  },
  {
   "cell_type": "code",
   "execution_count": 26,
   "metadata": {},
   "outputs": [],
   "source": [
    "#Creating an empty dataframe to store the research areas\n",
    "Papers_df = pd.DataFrame(columns = ['First name', 'Last name', 'Title', 'Abstract',''])"
   ]
  },
  {
   "cell_type": "code",
   "execution_count": null,
   "metadata": {},
   "outputs": [],
   "source": []
  },
  {
   "cell_type": "code",
   "execution_count": 30,
   "metadata": {},
   "outputs": [
    {
     "name": "stdout",
     "output_type": "stream",
     "text": [
      "None\n"
     ]
    }
   ],
   "source": [
    "url = prof_list['Individual'][0] + '/Persons/Publications'\n",
    "response = requests.get(url)\n",
    "soup = bs(response.text , 'html.parser')\n",
    "print(soup.find('body').find('div',{'class': 'mb-3'}))"
   ]
  },
  {
   "cell_type": "code",
   "execution_count": 12,
   "metadata": {},
   "outputs": [
    {
     "data": {
      "text/plain": [
       "'https://scholars.library.tamu.edu/vivo/display/n7324fcbe'"
      ]
     },
     "execution_count": 12,
     "metadata": {},
     "output_type": "execute_result"
    }
   ],
   "source": [
    "url"
   ]
  },
  {
   "cell_type": "code",
   "execution_count": 47,
   "metadata": {},
   "outputs": [
    {
     "data": {
      "text/plain": [
       "[<div _ngcontent-sc119=\"\" class=\"outer-wrapper\" style=\"--blue: #007bff;--indigo: #6610f2;--purple: #6f42c1;--pink: #e83e8c;--red: #dc3545;--orange: #fd7e14;--yellow: #ffc107;--green: #28a745;--teal: #20c997;--cyan: #17a2b8;--white: #ffffff;--gray: #6c757d;--gray-dark: #343a40;--primary: #500000;--primary-alert-bg: #dccccc;--primary-alert-border: #ceb8b8;--primary-alert-color: #2a0000;--primary-badge-bg: #500000;--primary-badge-color: #fff;--primary-list-group-item-bg: #ceb8b8;--primary-list-group-item-color: #2a0000;--primary-table-bg: #ceb8b8;--primary-table-border: #a47a7a;--primary-button-outline-color: #500000;--primary-button-outline-color-hover: #fff;--primary-button-outline-box-shadow-color: rgba(80, 0, 0, .5);--primary-button-color: #fff;--primary-button-bg: #500000;--primary-button-border: #500000;--primary-button-hover-color: #fff;--primary-button-hover-bg: #470000;--primary-button-hover-border: #450000;--primary-button-active-color: #fff;--primary-button-active-bg: #450000;--primary-button-active-border: #420000;--primary-button-box-shadow-color: rgba(106, 38, 38, .5);--secondary: #65a6d1;--secondary-alert-bg: #e0edf6;--secondary-alert-border: #d4e6f2;--secondary-alert-color: #35566d;--secondary-badge-bg: #65a6d1;--secondary-badge-color: #212529;--secondary-list-group-item-bg: #d4e6f2;--secondary-list-group-item-color: #35566d;--secondary-table-bg: #d4e6f2;--secondary-table-border: #afd1e7;--secondary-button-outline-color: #65a6d1;--secondary-button-outline-color-hover: #212529;--secondary-button-outline-box-shadow-color: rgba(101, 166, 209, .5);--secondary-button-color: #212529;--secondary-button-bg: #65a6d1;--secondary-button-border: #65a6d1;--secondary-button-hover-color: #fff;--secondary-button-hover-bg: #5993b9;--secondary-button-hover-border: #578fb3;--secondary-button-active-color: #fff;--secondary-button-active-bg: #578fb3;--secondary-button-active-border: #548aad;--secondary-button-box-shadow-color: rgba(124, 179, 216, .5);--success: #28a745;--success-alert-bg: #d4edda;--success-alert-border: #c3e6cb;--success-alert-color: #155724;--success-badge-bg: #28a745;--success-badge-color: #fff;--success-list-group-item-bg: #c3e6cb;--success-list-group-item-color: #155724;--success-table-bg: #c3e6cb;--success-table-border: #8fd19e;--success-button-outline-color: #28a745;--success-button-outline-color-hover: #fff;--success-button-outline-box-shadow-color: rgba(40, 167, 69, .5);--success-button-color: #fff;--success-button-bg: #28a745;--success-button-border: #28a745;--success-button-hover-color: #fff;--success-button-hover-bg: #23943d;--success-button-hover-border: #228f3b;--success-button-active-color: #fff;--success-button-active-bg: #228f3b;--success-button-active-border: #218b39;--success-button-box-shadow-color: rgba(72, 180, 97, .5);--info: #17a2b8;--info-alert-bg: #d1ecf1;--info-alert-border: #bee5eb;--info-alert-color: #0c5460;--info-badge-bg: #17a2b8;--info-badge-color: #fff;--info-list-group-item-bg: #bee5eb;--info-list-group-item-color: #0c5460;--info-table-bg: #bee5eb;--info-table-border: #86cfda;--info-button-outline-color: #17a2b8;--info-button-outline-color-hover: #fff;--info-button-outline-box-shadow-color: rgba(23, 162, 184, .5);--info-button-color: #fff;--info-button-bg: #17a2b8;--info-button-border: #17a2b8;--info-button-hover-color: #fff;--info-button-hover-bg: #148fa3;--info-button-hover-border: #148b9e;--info-button-active-color: #fff;--info-button-active-bg: #148b9e;--info-button-active-border: #138699;--info-button-box-shadow-color: rgba(58, 176, 195, .5);--warning: #ffc107;--warning-alert-bg: #fff3cd;--warning-alert-border: #ffeeba;--warning-alert-color: #856404;--warning-badge-bg: #ffc107;--warning-badge-color: #212529;--warning-list-group-item-bg: #ffeeba;--warning-list-group-item-color: #856404;--warning-table-bg: #ffeeba;--warning-table-border: #ffdf7e;--warning-button-outline-color: #ffc107;--warning-button-outline-color-hover: #212529;--warning-button-outline-box-shadow-color: rgba(255, 193, 7, .5);--warning-button-color: #212529;--warning-button-bg: #ffc107;--warning-button-border: #ffc107;--warning-button-hover-color: #212529;--warning-button-hover-bg: #e1ab06;--warning-button-hover-border: #dba606;--warning-button-active-color: #212529;--warning-button-active-bg: #dba606;--warning-button-active-border: #d4a006;--warning-button-box-shadow-color: rgba(222, 170, 12, .5);--danger: #dc3545;--danger-alert-bg: #f8d7da;--danger-alert-border: #f5c6cb;--danger-alert-color: #721c24;--danger-badge-bg: #dc3545;--danger-badge-color: #fff;--danger-list-group-item-bg: #f5c6cb;--danger-list-group-item-color: #721c24;--danger-table-bg: #f5c6cb;--danger-table-border: #ed969e;--danger-button-outline-color: #dc3545;--danger-button-outline-color-hover: #fff;--danger-button-outline-box-shadow-color: rgba(220, 53, 69, .5);--danger-button-color: #fff;--danger-button-bg: #dc3545;--danger-button-border: #dc3545;--danger-button-hover-color: #fff;--danger-button-hover-bg: #c22f3d;--danger-button-hover-border: #bd2e3b;--danger-button-active-color: #fff;--danger-button-active-bg: #bd2e3b;--danger-button-active-border: #b72c39;--danger-button-box-shadow-color: rgba(225, 83, 97, .5);--light: #f8f9fa;--light-alert-bg: #fefefe;--light-alert-border: #fdfdfe;--light-alert-color: #818182;--light-badge-bg: #f8f9fa;--light-badge-color: #212529;--light-list-group-item-bg: #fdfdfe;--light-list-group-item-color: #818182;--light-table-bg: #fdfdfe;--light-table-border: #fbfcfc;--light-button-outline-color: #f8f9fa;--light-button-outline-color-hover: #212529;--light-button-outline-box-shadow-color: rgba(248, 249, 250, .5);--light-button-color: #212529;--light-button-bg: #f8f9fa;--light-button-border: #f8f9fa;--light-button-hover-color: #212529;--light-button-hover-bg: #dbdcdd;--light-button-hover-border: #d5d6d7;--light-button-active-color: #212529;--light-button-active-bg: #d5d6d7;--light-button-active-border: #cecfd0;--light-button-box-shadow-color: rgba(216, 217, 219, .5);--dark: #3c0000;--dark-alert-bg: #d8cccc;--dark-alert-border: #c8b8b8;--dark-alert-color: #1f0000;--dark-badge-bg: #3c0000;--dark-badge-color: #fff;--dark-list-group-item-bg: #c8b8b8;--dark-list-group-item-color: #1f0000;--dark-table-bg: #c8b8b8;--dark-table-border: #9a7a7a;--dark-button-outline-color: #3c0000;--dark-button-outline-color-hover: #fff;--dark-button-outline-box-shadow-color: rgba(60, 0, 0, .5);--dark-button-color: #fff;--dark-button-bg: #3c0000;--dark-button-border: #3c0000;--dark-button-hover-color: #fff;--dark-button-hover-bg: #350000;--dark-button-hover-border: #340000;--dark-button-active-color: #fff;--dark-button-active-bg: #340000;--dark-button-active-border: #320000;--dark-button-box-shadow-color: rgba(89, 38, 38, .5);--hero-color: #f3f3f3;--hero-link-color: #65a6d1;--hero-link-color-hover: #ffc222;--navbar-background-color: #3c0000;--navbar-hover-background-color: #ffc222;--navbar-color: #fff;--navbar-hover-color: #3c0000;--navbar-link-seperator-color: #6a0000;--banner-border-top: 1px #8d8d8d solid;--banner-background-color: #500000;--banner-color: #fff;--footer-border-top: 1px #8d8d8d solid;--footer-background-color: #3c0000;--footer-color: #fff;--footer-min-height: 52px;--footer-font-size: 14px;--copyright-background-color: #f8f9fa;--copyright-color: #2d2d2d;--copyright-min-height: 48px;--copyright-font-size: 12px;--accent: #ffc222;--link-color: #2B5D7D;--link-color-hover: #0056b3;--navigation-background-color: #ededed;--navigation-color: #3c0000;--navigation-hover-background-color: #4d4d4d;--navigation-hover-color: #fff;\"><scholars-header _ngcontent-sc119=\"\" _nghost-sc108=\"\"><scholars-navbar _ngcontent-sc108=\"\" _nghost-sc101=\"\"><nav _ngcontent-sc101=\"\" class=\"navbar navbar-expand-sm navbar-dark ng-star-inserted\"><div _ngcontent-sc101=\"\" class=\"container\"><a _ngcontent-sc101=\"\" class=\"navbar-brand\" href=\"https://library.tamu.edu\"><img _ngcontent-sc101=\"\" alt=\"TAMU Libraries logo\" class=\"ng-star-inserted\" src=\"assets/images/tamu-logo-with-right-border.png\"/><!-- --><span _ngcontent-sc101=\"\" class=\"brand-title\">Texas A&amp;M University Libraries</span></a><button _ngcontent-sc101=\"\" aria-controls=\"navbar\" aria-expanded=\"false\" aria-label=\"Toggle navigation\" class=\"navbar-toggler\" data-target=\"#navbar\" type=\"button\"><span _ngcontent-sc101=\"\" class=\"navbar-toggler-icon\"></span></button><div _ngcontent-sc101=\"\" class=\"collapse navbar-collapse justify-content-end\" id=\"navbar\"><ul _ngcontent-sc101=\"\" class=\"navbar-nav\"><li _ngcontent-sc101=\"\" class=\"nav-item ng-star-inserted\"><a _ngcontent-sc101=\"\" class=\"nav-link\" href=\"https://library.tamu.edu/about/hours.html\">Hours</a></li><li _ngcontent-sc101=\"\" class=\"nav-item ng-star-inserted\"><a _ngcontent-sc101=\"\" class=\"nav-link\" href=\"https://library.tamu.edu/about/index.html\">Libraries</a></li><li _ngcontent-sc101=\"\" class=\"nav-item ng-star-inserted\"><a _ngcontent-sc101=\"\" class=\"nav-link\" href=\"https://library.tamu.edu/mylibrary\">MyLibrary</a></li><li _ngcontent-sc101=\"\" class=\"nav-item ng-star-inserted\"><a _ngcontent-sc101=\"\" class=\"nav-link\" href=\"https://askus.library.tamu.edu\">Help</a></li><!-- --></ul></div></div></nav><!-- --></scholars-navbar><scholars-banner _ngcontent-sc108=\"\" _nghost-sc107=\"\"><div _ngcontent-sc107=\"\" class=\"banner\"><div _ngcontent-sc107=\"\" class=\"container ng-star-inserted\"><a _ngcontent-sc107=\"\" href=\"/vivo/\"><img _ngcontent-sc107=\"\" alt=\"Scholars at Texas A&amp;M University logo\" class=\"ng-star-inserted\" src=\"assets/images/scholars-logo-white.png\"/><!-- --><h1 _ngcontent-sc107=\"\" class=\"font-weight-bold text-white\" hidden=\"!banner.imageUri\">SCHOLARS@TAMU</h1></a></div><!-- --></div></scholars-banner></scholars-header><scholars-navigation _ngcontent-sc119=\"\" _nghost-sc109=\"\"><nav _ngcontent-sc109=\"\" class=\"navbar navbar-expand-sm navbar-light\"><div _ngcontent-sc109=\"\" class=\"container\"><a _ngcontent-sc109=\"\" class=\"navbar-brand d-sm-none ml-2 menu-action\"></a><button _ngcontent-sc109=\"\" aria-controls=\"navigation\" aria-expanded=\"false\" aria-label=\"Toggle navigation\" class=\"navbar-toggler\" data-target=\"#navigation\" type=\"button\"><span _ngcontent-sc109=\"\" class=\"navbar-toggler-icon\"></span></button><div _ngcontent-sc109=\"\" class=\"collapse navbar-collapse\" id=\"navigation\"><ul _ngcontent-sc109=\"\" class=\"navbar-nav\"><!-- --><li _ngcontent-sc109=\"\" class=\"nav-item\"><a _ngcontent-sc109=\"\" class=\"nav-link\" href=\"/vivo/\">Home</a></li></ul><ul _ngcontent-sc109=\"\" class=\"navbar-nav\"><li _ngcontent-sc109=\"\" class=\"nav-item ng-star-inserted\"><a _ngcontent-sc109=\"\" class=\"nav-link\" href=\"/vivo/directory/People?collection=individual&amp;fl=type,name,preferredTitle,researchAreas,positions,positionOrganization,thumbnail&amp;facets=type,positionOrganization,researchAreas_nested_facets,selectedPublicationTag&amp;type.type=STRING&amp;type.pageSize=10&amp;type.pageNumber=1&amp;type.sort=COUNT,DESC&amp;positionOrganization.type=STRING&amp;positionOrganization.pageSize=10&amp;positionOrganization.pageNumber=1&amp;positionOrganization.sort=INDEX,ASC&amp;researchAreas_nested_facets.type=STRING&amp;researchAreas_nested_facets.pageSize=10&amp;researchAreas_nested_facets.pageNumber=1&amp;researchAreas_nested_facets.sort=COUNT,DESC&amp;selectedPublicationTag.type=STRING&amp;selectedPublicationTag.pageSize=10&amp;selectedPublicationTag.pageNumber=1&amp;selectedPublicationTag.sort=COUNT,DESC&amp;class.filter=Person&amp;class.opKey=EQUALS&amp;filters=class&amp;sort=name_sort,ASC&amp;page=1\">People</a></li><li _ngcontent-sc109=\"\" class=\"nav-item ng-star-inserted\"><a _ngcontent-sc109=\"\" class=\"nav-link\" href=\"/vivo/directory/Organizations?collection=individual&amp;fl=type,name&amp;facets=type&amp;type.type=STRING&amp;type.pageSize=10&amp;type.pageNumber=1&amp;type.sort=INDEX,ASC&amp;class.filter=Organization&amp;class.opKey=EQUALS&amp;filters=class&amp;sort=name_sort,ASC&amp;page=1\">Organizations</a></li><li _ngcontent-sc109=\"\" class=\"nav-item ng-star-inserted\"><a _ngcontent-sc109=\"\" class=\"nav-link\" href=\"/vivo/directory/Research?collection=individual&amp;fl=type,title,publicationDate,authors,authorOrganization,doi,pmcid,uri,tags&amp;facets=type,publicationDate,authorOrganization,tags&amp;type.type=STRING&amp;type.pageSize=10&amp;type.pageNumber=1&amp;type.sort=COUNT,DESC&amp;publicationDate.type=DATE_YEAR&amp;publicationDate.pageSize=10&amp;publicationDate.pageNumber=1&amp;publicationDate.sort=INDEX,DESC&amp;authorOrganization.type=STRING&amp;authorOrganization.pageSize=10&amp;authorOrganization.pageNumber=1&amp;authorOrganization.sort=COUNT,DESC&amp;tags.type=STRING&amp;tags.pageSize=10&amp;tags.pageNumber=1&amp;tags.sort=COUNT,DESC&amp;class.filter=Document&amp;class.opKey=EQUALS&amp;filters=class&amp;sort=title_sort,ASC&amp;page=1\">Research</a></li><!-- --></ul><!-- --><ul _ngcontent-sc109=\"\" class=\"navbar-nav\"><li _ngcontent-sc109=\"\" class=\"nav-item\"><a _ngcontent-sc109=\"\" class=\"nav-link\" href=\"https://scholars.library.tamu.edu/about_scholars\">About</a></li><li _ngcontent-sc109=\"\" class=\"nav-item d-sm-none\"><a _ngcontent-sc109=\"\" class=\"nav-link edit-profile-action\" href=\"https://scholars.library.tamu.edu/vivo_editor\" target=\"_blank\"><span _ngcontent-sc109=\"\" aria-hidden=\"true\" class=\"fa fa-pencil-square-o\"></span><span _ngcontent-sc109=\"\">Edit my profile</span></a></li><!-- --></ul></div><div _ngcontent-sc109=\"\" class=\"nav navbar-nav d-none d-sm-block\"><a _ngcontent-sc109=\"\" class=\"btn btn-outline-primary edit-profile-action\" href=\"https://scholars.library.tamu.edu/vivo_editor\" target=\"_blank\"><span _ngcontent-sc109=\"\" aria-hidden=\"true\" class=\"fa fa-pencil-square-o\"></span><span _ngcontent-sc109=\"\">Edit my profile</span></a></div><!-- --></div></nav></scholars-navigation><scholars-alert _ngcontent-sc119=\"\" _nghost-sc110=\"\"><div _ngcontent-sc110=\"\"><!-- --></div><!-- --></scholars-alert><div _ngcontent-sc119=\"\" class=\"inner-wrapper\"><div _ngcontent-sc119=\"\" class=\"main\"><router-outlet _ngcontent-sc119=\"\"></router-outlet><scholars-display _nghost-sc131=\"\" class=\"ng-tns-c131-0 ng-star-inserted\"><div _ngcontent-sc131=\"\" class=\"search ng-tns-c131-0\"><div _ngcontent-sc131=\"\" class=\"container pt-2 ng-tns-c131-0\"><div _ngcontent-sc131=\"\" class=\"row justify-content-center ng-tns-c131-0\"><!-- --></div></div></div><!-- --></scholars-display><!-- --></div></div><scholars-footer _ngcontent-sc119=\"\" _nghost-sc118=\"\"><scholars-copyright _ngcontent-sc118=\"\" _nghost-sc117=\"\"><div _ngcontent-sc117=\"\" class=\"copyright\"><ul _ngcontent-sc117=\"\" class=\"list-inline text-center\"><li _ngcontent-sc117=\"\" class=\"list-inline-item\"><span _ngcontent-sc117=\"\">© Texas A&amp;M University Libraries</span></li><li _ngcontent-sc117=\"\" class=\"list-inline-item\"><span _ngcontent-sc117=\"\">|</span></li><li _ngcontent-sc117=\"\" class=\"list-inline-item\"><a _ngcontent-sc117=\"\" href=\"https://scholars.library.tamu.edu/terms_scholars\">Terms of Use</a></li><li _ngcontent-sc117=\"\" class=\"list-inline-item\"><span _ngcontent-sc117=\"\">|</span></li><li _ngcontent-sc117=\"\" class=\"list-inline-item\"><a _ngcontent-sc117=\"\" href=\"https://duraspace.org/vivo\">Powered by VIVO</a></li><li _ngcontent-sc117=\"\" class=\"list-inline-item\"><span _ngcontent-sc117=\"\">-</span></li><li _ngcontent-sc117=\"\" class=\"list-inline-item\"><a _ngcontent-sc117=\"\" href=\"https://github.com/TAMULib/scholars-discovery\">Scholars Discovery</a></li></ul></div></scholars-copyright><div _ngcontent-sc118=\"\" class=\"footer\"><ul _ngcontent-sc118=\"\" class=\"list-inline text-center ng-star-inserted\"><li _ngcontent-sc118=\"\" class=\"list-inline-item ng-star-inserted\"><a _ngcontent-sc118=\"\" href=\"https://howdy.tamu.edu/uPortal/normal/render.uP\">howdy.tamu.edu</a></li><li _ngcontent-sc118=\"\" class=\"list-inline-item ng-star-inserted\"><a _ngcontent-sc118=\"\" href=\"https://library.tamu.edu/services/tech_troubleshooting.html\">Off-Campus Access</a></li><li _ngcontent-sc118=\"\" class=\"list-inline-item ng-star-inserted\"><a _ngcontent-sc118=\"\" href=\"https://tamu.edu\">Texas A&amp;M University</a></li><li _ngcontent-sc118=\"\" class=\"list-inline-item ng-star-inserted\"><a _ngcontent-sc118=\"\" href=\"https://library.tamu.edu/about/compliance.html\">Site Policies</a></li><li _ngcontent-sc118=\"\" class=\"list-inline-item ng-star-inserted\"><a _ngcontent-sc118=\"\" href=\"https://library.tamu.edu/services/accessibility.html\">Accessibility</a></li><li _ngcontent-sc118=\"\" class=\"list-inline-item ng-star-inserted\"><a _ngcontent-sc118=\"\" href=\"http://www.thecb.state.tx.us/apps/txcrews\">Texas CREWS</a></li><li _ngcontent-sc118=\"\" class=\"list-inline-item ng-star-inserted\"><a _ngcontent-sc118=\"\" href=\"https://askus.library.tamu.edu/contact/index\">Comments</a></li><!-- --></ul><!-- --></div></scholars-footer></div>,\n",
       " <div _ngcontent-sc101=\"\" class=\"container\"><a _ngcontent-sc101=\"\" class=\"navbar-brand\" href=\"https://library.tamu.edu\"><img _ngcontent-sc101=\"\" alt=\"TAMU Libraries logo\" class=\"ng-star-inserted\" src=\"assets/images/tamu-logo-with-right-border.png\"/><!-- --><span _ngcontent-sc101=\"\" class=\"brand-title\">Texas A&amp;M University Libraries</span></a><button _ngcontent-sc101=\"\" aria-controls=\"navbar\" aria-expanded=\"false\" aria-label=\"Toggle navigation\" class=\"navbar-toggler\" data-target=\"#navbar\" type=\"button\"><span _ngcontent-sc101=\"\" class=\"navbar-toggler-icon\"></span></button><div _ngcontent-sc101=\"\" class=\"collapse navbar-collapse justify-content-end\" id=\"navbar\"><ul _ngcontent-sc101=\"\" class=\"navbar-nav\"><li _ngcontent-sc101=\"\" class=\"nav-item ng-star-inserted\"><a _ngcontent-sc101=\"\" class=\"nav-link\" href=\"https://library.tamu.edu/about/hours.html\">Hours</a></li><li _ngcontent-sc101=\"\" class=\"nav-item ng-star-inserted\"><a _ngcontent-sc101=\"\" class=\"nav-link\" href=\"https://library.tamu.edu/about/index.html\">Libraries</a></li><li _ngcontent-sc101=\"\" class=\"nav-item ng-star-inserted\"><a _ngcontent-sc101=\"\" class=\"nav-link\" href=\"https://library.tamu.edu/mylibrary\">MyLibrary</a></li><li _ngcontent-sc101=\"\" class=\"nav-item ng-star-inserted\"><a _ngcontent-sc101=\"\" class=\"nav-link\" href=\"https://askus.library.tamu.edu\">Help</a></li><!-- --></ul></div></div>,\n",
       " <div _ngcontent-sc101=\"\" class=\"collapse navbar-collapse justify-content-end\" id=\"navbar\"><ul _ngcontent-sc101=\"\" class=\"navbar-nav\"><li _ngcontent-sc101=\"\" class=\"nav-item ng-star-inserted\"><a _ngcontent-sc101=\"\" class=\"nav-link\" href=\"https://library.tamu.edu/about/hours.html\">Hours</a></li><li _ngcontent-sc101=\"\" class=\"nav-item ng-star-inserted\"><a _ngcontent-sc101=\"\" class=\"nav-link\" href=\"https://library.tamu.edu/about/index.html\">Libraries</a></li><li _ngcontent-sc101=\"\" class=\"nav-item ng-star-inserted\"><a _ngcontent-sc101=\"\" class=\"nav-link\" href=\"https://library.tamu.edu/mylibrary\">MyLibrary</a></li><li _ngcontent-sc101=\"\" class=\"nav-item ng-star-inserted\"><a _ngcontent-sc101=\"\" class=\"nav-link\" href=\"https://askus.library.tamu.edu\">Help</a></li><!-- --></ul></div>,\n",
       " <div _ngcontent-sc107=\"\" class=\"banner\"><div _ngcontent-sc107=\"\" class=\"container ng-star-inserted\"><a _ngcontent-sc107=\"\" href=\"/vivo/\"><img _ngcontent-sc107=\"\" alt=\"Scholars at Texas A&amp;M University logo\" class=\"ng-star-inserted\" src=\"assets/images/scholars-logo-white.png\"/><!-- --><h1 _ngcontent-sc107=\"\" class=\"font-weight-bold text-white\" hidden=\"!banner.imageUri\">SCHOLARS@TAMU</h1></a></div><!-- --></div>,\n",
       " <div _ngcontent-sc107=\"\" class=\"container ng-star-inserted\"><a _ngcontent-sc107=\"\" href=\"/vivo/\"><img _ngcontent-sc107=\"\" alt=\"Scholars at Texas A&amp;M University logo\" class=\"ng-star-inserted\" src=\"assets/images/scholars-logo-white.png\"/><!-- --><h1 _ngcontent-sc107=\"\" class=\"font-weight-bold text-white\" hidden=\"!banner.imageUri\">SCHOLARS@TAMU</h1></a></div>,\n",
       " <div _ngcontent-sc109=\"\" class=\"container\"><a _ngcontent-sc109=\"\" class=\"navbar-brand d-sm-none ml-2 menu-action\"></a><button _ngcontent-sc109=\"\" aria-controls=\"navigation\" aria-expanded=\"false\" aria-label=\"Toggle navigation\" class=\"navbar-toggler\" data-target=\"#navigation\" type=\"button\"><span _ngcontent-sc109=\"\" class=\"navbar-toggler-icon\"></span></button><div _ngcontent-sc109=\"\" class=\"collapse navbar-collapse\" id=\"navigation\"><ul _ngcontent-sc109=\"\" class=\"navbar-nav\"><!-- --><li _ngcontent-sc109=\"\" class=\"nav-item\"><a _ngcontent-sc109=\"\" class=\"nav-link\" href=\"/vivo/\">Home</a></li></ul><ul _ngcontent-sc109=\"\" class=\"navbar-nav\"><li _ngcontent-sc109=\"\" class=\"nav-item ng-star-inserted\"><a _ngcontent-sc109=\"\" class=\"nav-link\" href=\"/vivo/directory/People?collection=individual&amp;fl=type,name,preferredTitle,researchAreas,positions,positionOrganization,thumbnail&amp;facets=type,positionOrganization,researchAreas_nested_facets,selectedPublicationTag&amp;type.type=STRING&amp;type.pageSize=10&amp;type.pageNumber=1&amp;type.sort=COUNT,DESC&amp;positionOrganization.type=STRING&amp;positionOrganization.pageSize=10&amp;positionOrganization.pageNumber=1&amp;positionOrganization.sort=INDEX,ASC&amp;researchAreas_nested_facets.type=STRING&amp;researchAreas_nested_facets.pageSize=10&amp;researchAreas_nested_facets.pageNumber=1&amp;researchAreas_nested_facets.sort=COUNT,DESC&amp;selectedPublicationTag.type=STRING&amp;selectedPublicationTag.pageSize=10&amp;selectedPublicationTag.pageNumber=1&amp;selectedPublicationTag.sort=COUNT,DESC&amp;class.filter=Person&amp;class.opKey=EQUALS&amp;filters=class&amp;sort=name_sort,ASC&amp;page=1\">People</a></li><li _ngcontent-sc109=\"\" class=\"nav-item ng-star-inserted\"><a _ngcontent-sc109=\"\" class=\"nav-link\" href=\"/vivo/directory/Organizations?collection=individual&amp;fl=type,name&amp;facets=type&amp;type.type=STRING&amp;type.pageSize=10&amp;type.pageNumber=1&amp;type.sort=INDEX,ASC&amp;class.filter=Organization&amp;class.opKey=EQUALS&amp;filters=class&amp;sort=name_sort,ASC&amp;page=1\">Organizations</a></li><li _ngcontent-sc109=\"\" class=\"nav-item ng-star-inserted\"><a _ngcontent-sc109=\"\" class=\"nav-link\" href=\"/vivo/directory/Research?collection=individual&amp;fl=type,title,publicationDate,authors,authorOrganization,doi,pmcid,uri,tags&amp;facets=type,publicationDate,authorOrganization,tags&amp;type.type=STRING&amp;type.pageSize=10&amp;type.pageNumber=1&amp;type.sort=COUNT,DESC&amp;publicationDate.type=DATE_YEAR&amp;publicationDate.pageSize=10&amp;publicationDate.pageNumber=1&amp;publicationDate.sort=INDEX,DESC&amp;authorOrganization.type=STRING&amp;authorOrganization.pageSize=10&amp;authorOrganization.pageNumber=1&amp;authorOrganization.sort=COUNT,DESC&amp;tags.type=STRING&amp;tags.pageSize=10&amp;tags.pageNumber=1&amp;tags.sort=COUNT,DESC&amp;class.filter=Document&amp;class.opKey=EQUALS&amp;filters=class&amp;sort=title_sort,ASC&amp;page=1\">Research</a></li><!-- --></ul><!-- --><ul _ngcontent-sc109=\"\" class=\"navbar-nav\"><li _ngcontent-sc109=\"\" class=\"nav-item\"><a _ngcontent-sc109=\"\" class=\"nav-link\" href=\"https://scholars.library.tamu.edu/about_scholars\">About</a></li><li _ngcontent-sc109=\"\" class=\"nav-item d-sm-none\"><a _ngcontent-sc109=\"\" class=\"nav-link edit-profile-action\" href=\"https://scholars.library.tamu.edu/vivo_editor\" target=\"_blank\"><span _ngcontent-sc109=\"\" aria-hidden=\"true\" class=\"fa fa-pencil-square-o\"></span><span _ngcontent-sc109=\"\">Edit my profile</span></a></li><!-- --></ul></div><div _ngcontent-sc109=\"\" class=\"nav navbar-nav d-none d-sm-block\"><a _ngcontent-sc109=\"\" class=\"btn btn-outline-primary edit-profile-action\" href=\"https://scholars.library.tamu.edu/vivo_editor\" target=\"_blank\"><span _ngcontent-sc109=\"\" aria-hidden=\"true\" class=\"fa fa-pencil-square-o\"></span><span _ngcontent-sc109=\"\">Edit my profile</span></a></div><!-- --></div>,\n",
       " <div _ngcontent-sc109=\"\" class=\"collapse navbar-collapse\" id=\"navigation\"><ul _ngcontent-sc109=\"\" class=\"navbar-nav\"><!-- --><li _ngcontent-sc109=\"\" class=\"nav-item\"><a _ngcontent-sc109=\"\" class=\"nav-link\" href=\"/vivo/\">Home</a></li></ul><ul _ngcontent-sc109=\"\" class=\"navbar-nav\"><li _ngcontent-sc109=\"\" class=\"nav-item ng-star-inserted\"><a _ngcontent-sc109=\"\" class=\"nav-link\" href=\"/vivo/directory/People?collection=individual&amp;fl=type,name,preferredTitle,researchAreas,positions,positionOrganization,thumbnail&amp;facets=type,positionOrganization,researchAreas_nested_facets,selectedPublicationTag&amp;type.type=STRING&amp;type.pageSize=10&amp;type.pageNumber=1&amp;type.sort=COUNT,DESC&amp;positionOrganization.type=STRING&amp;positionOrganization.pageSize=10&amp;positionOrganization.pageNumber=1&amp;positionOrganization.sort=INDEX,ASC&amp;researchAreas_nested_facets.type=STRING&amp;researchAreas_nested_facets.pageSize=10&amp;researchAreas_nested_facets.pageNumber=1&amp;researchAreas_nested_facets.sort=COUNT,DESC&amp;selectedPublicationTag.type=STRING&amp;selectedPublicationTag.pageSize=10&amp;selectedPublicationTag.pageNumber=1&amp;selectedPublicationTag.sort=COUNT,DESC&amp;class.filter=Person&amp;class.opKey=EQUALS&amp;filters=class&amp;sort=name_sort,ASC&amp;page=1\">People</a></li><li _ngcontent-sc109=\"\" class=\"nav-item ng-star-inserted\"><a _ngcontent-sc109=\"\" class=\"nav-link\" href=\"/vivo/directory/Organizations?collection=individual&amp;fl=type,name&amp;facets=type&amp;type.type=STRING&amp;type.pageSize=10&amp;type.pageNumber=1&amp;type.sort=INDEX,ASC&amp;class.filter=Organization&amp;class.opKey=EQUALS&amp;filters=class&amp;sort=name_sort,ASC&amp;page=1\">Organizations</a></li><li _ngcontent-sc109=\"\" class=\"nav-item ng-star-inserted\"><a _ngcontent-sc109=\"\" class=\"nav-link\" href=\"/vivo/directory/Research?collection=individual&amp;fl=type,title,publicationDate,authors,authorOrganization,doi,pmcid,uri,tags&amp;facets=type,publicationDate,authorOrganization,tags&amp;type.type=STRING&amp;type.pageSize=10&amp;type.pageNumber=1&amp;type.sort=COUNT,DESC&amp;publicationDate.type=DATE_YEAR&amp;publicationDate.pageSize=10&amp;publicationDate.pageNumber=1&amp;publicationDate.sort=INDEX,DESC&amp;authorOrganization.type=STRING&amp;authorOrganization.pageSize=10&amp;authorOrganization.pageNumber=1&amp;authorOrganization.sort=COUNT,DESC&amp;tags.type=STRING&amp;tags.pageSize=10&amp;tags.pageNumber=1&amp;tags.sort=COUNT,DESC&amp;class.filter=Document&amp;class.opKey=EQUALS&amp;filters=class&amp;sort=title_sort,ASC&amp;page=1\">Research</a></li><!-- --></ul><!-- --><ul _ngcontent-sc109=\"\" class=\"navbar-nav\"><li _ngcontent-sc109=\"\" class=\"nav-item\"><a _ngcontent-sc109=\"\" class=\"nav-link\" href=\"https://scholars.library.tamu.edu/about_scholars\">About</a></li><li _ngcontent-sc109=\"\" class=\"nav-item d-sm-none\"><a _ngcontent-sc109=\"\" class=\"nav-link edit-profile-action\" href=\"https://scholars.library.tamu.edu/vivo_editor\" target=\"_blank\"><span _ngcontent-sc109=\"\" aria-hidden=\"true\" class=\"fa fa-pencil-square-o\"></span><span _ngcontent-sc109=\"\">Edit my profile</span></a></li><!-- --></ul></div>,\n",
       " <div _ngcontent-sc109=\"\" class=\"nav navbar-nav d-none d-sm-block\"><a _ngcontent-sc109=\"\" class=\"btn btn-outline-primary edit-profile-action\" href=\"https://scholars.library.tamu.edu/vivo_editor\" target=\"_blank\"><span _ngcontent-sc109=\"\" aria-hidden=\"true\" class=\"fa fa-pencil-square-o\"></span><span _ngcontent-sc109=\"\">Edit my profile</span></a></div>,\n",
       " <div _ngcontent-sc110=\"\"><!-- --></div>,\n",
       " <div _ngcontent-sc119=\"\" class=\"inner-wrapper\"><div _ngcontent-sc119=\"\" class=\"main\"><router-outlet _ngcontent-sc119=\"\"></router-outlet><scholars-display _nghost-sc131=\"\" class=\"ng-tns-c131-0 ng-star-inserted\"><div _ngcontent-sc131=\"\" class=\"search ng-tns-c131-0\"><div _ngcontent-sc131=\"\" class=\"container pt-2 ng-tns-c131-0\"><div _ngcontent-sc131=\"\" class=\"row justify-content-center ng-tns-c131-0\"><!-- --></div></div></div><!-- --></scholars-display><!-- --></div></div>,\n",
       " <div _ngcontent-sc119=\"\" class=\"main\"><router-outlet _ngcontent-sc119=\"\"></router-outlet><scholars-display _nghost-sc131=\"\" class=\"ng-tns-c131-0 ng-star-inserted\"><div _ngcontent-sc131=\"\" class=\"search ng-tns-c131-0\"><div _ngcontent-sc131=\"\" class=\"container pt-2 ng-tns-c131-0\"><div _ngcontent-sc131=\"\" class=\"row justify-content-center ng-tns-c131-0\"><!-- --></div></div></div><!-- --></scholars-display><!-- --></div>,\n",
       " <div _ngcontent-sc131=\"\" class=\"search ng-tns-c131-0\"><div _ngcontent-sc131=\"\" class=\"container pt-2 ng-tns-c131-0\"><div _ngcontent-sc131=\"\" class=\"row justify-content-center ng-tns-c131-0\"><!-- --></div></div></div>,\n",
       " <div _ngcontent-sc131=\"\" class=\"container pt-2 ng-tns-c131-0\"><div _ngcontent-sc131=\"\" class=\"row justify-content-center ng-tns-c131-0\"><!-- --></div></div>,\n",
       " <div _ngcontent-sc131=\"\" class=\"row justify-content-center ng-tns-c131-0\"><!-- --></div>,\n",
       " <div _ngcontent-sc117=\"\" class=\"copyright\"><ul _ngcontent-sc117=\"\" class=\"list-inline text-center\"><li _ngcontent-sc117=\"\" class=\"list-inline-item\"><span _ngcontent-sc117=\"\">© Texas A&amp;M University Libraries</span></li><li _ngcontent-sc117=\"\" class=\"list-inline-item\"><span _ngcontent-sc117=\"\">|</span></li><li _ngcontent-sc117=\"\" class=\"list-inline-item\"><a _ngcontent-sc117=\"\" href=\"https://scholars.library.tamu.edu/terms_scholars\">Terms of Use</a></li><li _ngcontent-sc117=\"\" class=\"list-inline-item\"><span _ngcontent-sc117=\"\">|</span></li><li _ngcontent-sc117=\"\" class=\"list-inline-item\"><a _ngcontent-sc117=\"\" href=\"https://duraspace.org/vivo\">Powered by VIVO</a></li><li _ngcontent-sc117=\"\" class=\"list-inline-item\"><span _ngcontent-sc117=\"\">-</span></li><li _ngcontent-sc117=\"\" class=\"list-inline-item\"><a _ngcontent-sc117=\"\" href=\"https://github.com/TAMULib/scholars-discovery\">Scholars Discovery</a></li></ul></div>,\n",
       " <div _ngcontent-sc118=\"\" class=\"footer\"><ul _ngcontent-sc118=\"\" class=\"list-inline text-center ng-star-inserted\"><li _ngcontent-sc118=\"\" class=\"list-inline-item ng-star-inserted\"><a _ngcontent-sc118=\"\" href=\"https://howdy.tamu.edu/uPortal/normal/render.uP\">howdy.tamu.edu</a></li><li _ngcontent-sc118=\"\" class=\"list-inline-item ng-star-inserted\"><a _ngcontent-sc118=\"\" href=\"https://library.tamu.edu/services/tech_troubleshooting.html\">Off-Campus Access</a></li><li _ngcontent-sc118=\"\" class=\"list-inline-item ng-star-inserted\"><a _ngcontent-sc118=\"\" href=\"https://tamu.edu\">Texas A&amp;M University</a></li><li _ngcontent-sc118=\"\" class=\"list-inline-item ng-star-inserted\"><a _ngcontent-sc118=\"\" href=\"https://library.tamu.edu/about/compliance.html\">Site Policies</a></li><li _ngcontent-sc118=\"\" class=\"list-inline-item ng-star-inserted\"><a _ngcontent-sc118=\"\" href=\"https://library.tamu.edu/services/accessibility.html\">Accessibility</a></li><li _ngcontent-sc118=\"\" class=\"list-inline-item ng-star-inserted\"><a _ngcontent-sc118=\"\" href=\"http://www.thecb.state.tx.us/apps/txcrews\">Texas CREWS</a></li><li _ngcontent-sc118=\"\" class=\"list-inline-item ng-star-inserted\"><a _ngcontent-sc118=\"\" href=\"https://askus.library.tamu.edu/contact/index\">Comments</a></li><!-- --></ul><!-- --></div>]"
      ]
     },
     "execution_count": 47,
     "metadata": {},
     "output_type": "execute_result"
    }
   ],
   "source": [
    "soup.find('scholars-root').find_all('div')"
   ]
  },
  {
   "cell_type": "code",
   "execution_count": null,
   "metadata": {},
   "outputs": [],
   "source": [
    "#Research_areas = [areas for areas in soup.find('div',{\"class\": \"ml-1\"}).text.split('\\n') if areas]"
   ]
  },
  {
   "cell_type": "code",
   "execution_count": null,
   "metadata": {},
   "outputs": [],
   "source": []
  },
  {
   "cell_type": "code",
   "execution_count": null,
   "metadata": {},
   "outputs": [],
   "source": []
  },
  {
   "cell_type": "code",
   "execution_count": null,
   "metadata": {},
   "outputs": [],
   "source": []
  },
  {
   "cell_type": "code",
   "execution_count": null,
   "metadata": {},
   "outputs": [],
   "source": []
  },
  {
   "cell_type": "code",
   "execution_count": null,
   "metadata": {},
   "outputs": [],
   "source": []
  }
 ],
 "metadata": {
  "kernelspec": {
   "display_name": "Python 3",
   "language": "python",
   "name": "python3"
  },
  "language_info": {
   "codemirror_mode": {
    "name": "ipython",
    "version": 3
   },
   "file_extension": ".py",
   "mimetype": "text/x-python",
   "name": "python",
   "nbconvert_exporter": "python",
   "pygments_lexer": "ipython3",
   "version": "3.7.6"
  }
 },
 "nbformat": 4,
 "nbformat_minor": 4
}
